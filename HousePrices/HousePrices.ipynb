{
 "cells": [
  {
   "cell_type": "code",
   "execution_count": 1,
   "metadata": {},
   "outputs": [],
   "source": [
    "import pandas as pd\n",
    "import seaborn as sns\n",
    "import matplotlib.pyplot as plt\n",
    "import numpy as np\n",
    "\n",
    "# Load the datasets\n",
    "train_df = pd.read_csv('train.csv')\n",
    "test_df = pd.read_csv('test.csv')\n"
   ]
  },
  {
   "cell_type": "code",
   "execution_count": 4,
   "metadata": {},
   "outputs": [],
   "source": [
    "from sklearn.impute import SimpleImputer\n",
    "\n",
    "# Create an imputer object for numerical columns using mean\n",
    "num_imputer = SimpleImputer(strategy='mean')\n",
    "\n",
    "# Apply the imputer to each numerical column in train_df and test_df\n",
    "for df in [train_df, test_df]:\n",
    "    numerical_cols = df.select_dtypes(include=[np.number]).columns\n",
    "    df[numerical_cols] = num_imputer.fit_transform(df[numerical_cols])"
   ]
  },
  {
   "cell_type": "code",
   "execution_count": 5,
   "metadata": {},
   "outputs": [],
   "source": [
    "# Replace NaN values in categorical columns with 'None'\n",
    "for df in [train_df, test_df]:\n",
    "    categorical_cols = df.select_dtypes(include=['object']).columns\n",
    "    df[categorical_cols] = df[categorical_cols].fillna('None')"
   ]
  },
  {
   "cell_type": "code",
   "execution_count": 14,
   "metadata": {},
   "outputs": [
    {
     "name": "stdout",
     "output_type": "stream",
     "text": [
      "Features selected by RFE: ['cat__Street_Grvl' 'cat__Street_Pave' 'cat__Alley_Grvl' 'cat__Alley_None'\n",
      " 'cat__Alley_Pave' 'cat__LotShape_IR1' 'cat__LotShape_IR2'\n",
      " 'cat__LotShape_IR3' 'cat__LotShape_Reg' 'cat__LandContour_Bnk'\n",
      " 'cat__LandContour_HLS' 'cat__LandContour_Low' 'cat__LandContour_Lvl'\n",
      " 'cat__Utilities_AllPub' 'cat__Utilities_NoSeWa' 'cat__LotConfig_Corner'\n",
      " 'cat__LotConfig_CulDSac' 'cat__LotConfig_FR2' 'cat__LotConfig_FR3'\n",
      " 'cat__LotConfig_Inside' 'cat__LandSlope_Gtl' 'cat__LandSlope_Mod'\n",
      " 'cat__LandSlope_Sev' 'cat__Neighborhood_Blmngtn'\n",
      " 'cat__Neighborhood_Blueste' 'cat__Neighborhood_BrDale'\n",
      " 'cat__Neighborhood_BrkSide' 'cat__Neighborhood_ClearCr'\n",
      " 'cat__Neighborhood_CollgCr' 'cat__Neighborhood_Crawfor'\n",
      " 'cat__Neighborhood_Edwards' 'cat__Neighborhood_Gilbert'\n",
      " 'cat__Neighborhood_IDOTRR' 'cat__Neighborhood_MeadowV'\n",
      " 'cat__Neighborhood_Mitchel' 'cat__Neighborhood_NAmes'\n",
      " 'cat__Neighborhood_NPkVill' 'cat__Neighborhood_NWAmes'\n",
      " 'cat__Neighborhood_NoRidge' 'cat__Neighborhood_NridgHt'\n",
      " 'cat__Neighborhood_OldTown' 'cat__Neighborhood_SWISU'\n",
      " 'cat__Neighborhood_Sawyer' 'cat__Neighborhood_SawyerW'\n",
      " 'cat__Neighborhood_Somerst' 'cat__Neighborhood_StoneBr'\n",
      " 'cat__Neighborhood_Timber' 'cat__Neighborhood_Veenker'\n",
      " 'cat__Condition1_Artery' 'cat__Condition1_Feedr' 'cat__Condition1_Norm'\n",
      " 'cat__Condition1_PosA' 'cat__Condition1_PosN' 'cat__Condition1_RRAe'\n",
      " 'cat__Condition1_RRAn' 'cat__Condition1_RRNe' 'cat__Condition1_RRNn'\n",
      " 'cat__Condition2_Artery' 'cat__Condition2_Feedr' 'cat__Condition2_Norm'\n",
      " 'cat__Condition2_PosA' 'cat__Condition2_PosN' 'cat__Condition2_RRAe'\n",
      " 'cat__Condition2_RRAn' 'cat__Condition2_RRNn' 'cat__BldgType_1Fam'\n",
      " 'cat__BldgType_2fmCon' 'cat__BldgType_Duplex' 'cat__BldgType_Twnhs'\n",
      " 'cat__BldgType_TwnhsE' 'cat__HouseStyle_1.5Fin' 'cat__HouseStyle_1.5Unf'\n",
      " 'cat__HouseStyle_1Story' 'cat__HouseStyle_2.5Fin'\n",
      " 'cat__HouseStyle_2.5Unf' 'cat__HouseStyle_2Story'\n",
      " 'cat__HouseStyle_SFoyer' 'cat__HouseStyle_SLvl' 'cat__RoofStyle_Flat'\n",
      " 'cat__RoofStyle_Gable' 'cat__RoofStyle_Gambrel' 'cat__RoofStyle_Hip'\n",
      " 'cat__RoofStyle_Mansard' 'cat__RoofStyle_Shed' 'cat__RoofMatl_ClyTile'\n",
      " 'cat__RoofMatl_CompShg' 'cat__RoofMatl_Membran' 'cat__RoofMatl_Metal'\n",
      " 'cat__RoofMatl_Roll' 'cat__RoofMatl_Tar&Grv' 'cat__RoofMatl_WdShake'\n",
      " 'cat__RoofMatl_WdShngl' 'cat__Exterior1st_AsbShng'\n",
      " 'cat__Exterior1st_AsphShn' 'cat__Exterior1st_BrkComm'\n",
      " 'cat__Exterior1st_BrkFace' 'cat__Exterior1st_CBlock'\n",
      " 'cat__Exterior1st_CemntBd' 'cat__Exterior1st_HdBoard'\n",
      " 'cat__Exterior1st_ImStucc' 'cat__Exterior1st_MetalSd'\n",
      " 'cat__Exterior1st_Plywood' 'cat__Exterior1st_Stone'\n",
      " 'cat__Exterior1st_Stucco' 'cat__Exterior1st_VinylSd'\n",
      " 'cat__Exterior1st_Wd Sdng' 'cat__Exterior1st_WdShing'\n",
      " 'cat__Exterior2nd_AsbShng' 'cat__Exterior2nd_AsphShn'\n",
      " 'cat__Exterior2nd_Brk Cmn' 'cat__Exterior2nd_BrkFace'\n",
      " 'cat__Exterior2nd_CBlock' 'cat__Exterior2nd_CmentBd'\n",
      " 'cat__Exterior2nd_HdBoard' 'cat__Exterior2nd_ImStucc'\n",
      " 'cat__Exterior2nd_MetalSd' 'cat__Exterior2nd_Other'\n",
      " 'cat__Exterior2nd_Plywood' 'cat__Exterior2nd_Stone'\n",
      " 'cat__Exterior2nd_Stucco' 'cat__Exterior2nd_VinylSd'\n",
      " 'cat__Exterior2nd_Wd Sdng' 'cat__Exterior2nd_Wd Shng'\n",
      " 'cat__MasVnrType_BrkCmn' 'cat__MasVnrType_BrkFace' 'cat__MasVnrType_None'\n",
      " 'cat__MasVnrType_Stone' 'cat__ExterQual_Ex' 'cat__ExterQual_Fa'\n",
      " 'cat__ExterQual_Gd' 'cat__ExterQual_TA' 'cat__ExterCond_Ex'\n",
      " 'cat__ExterCond_Fa' 'cat__ExterCond_Gd' 'cat__ExterCond_Po'\n",
      " 'cat__ExterCond_TA' 'cat__Foundation_BrkTil' 'cat__Foundation_CBlock'\n",
      " 'cat__Foundation_PConc' 'cat__Foundation_Slab' 'cat__Foundation_Stone'\n",
      " 'cat__Foundation_Wood' 'cat__BsmtQual_Ex' 'cat__BsmtQual_Fa'\n",
      " 'cat__BsmtQual_Gd' 'cat__BsmtQual_None' 'cat__BsmtQual_TA'\n",
      " 'cat__BsmtCond_Fa' 'cat__BsmtCond_Gd' 'cat__BsmtCond_None'\n",
      " 'cat__BsmtCond_Po' 'cat__BsmtCond_TA' 'cat__BsmtExposure_Av'\n",
      " 'cat__BsmtExposure_Gd' 'cat__BsmtExposure_Mn' 'cat__BsmtExposure_No'\n",
      " 'cat__BsmtExposure_None' 'cat__BsmtFinType1_ALQ' 'cat__BsmtFinType1_BLQ'\n",
      " 'cat__BsmtFinType1_GLQ' 'cat__BsmtFinType1_LwQ' 'cat__BsmtFinType1_Rec'\n",
      " 'cat__BsmtFinType1_Unf' 'cat__BsmtFinType2_ALQ' 'cat__BsmtFinType2_BLQ'\n",
      " 'cat__BsmtFinType2_GLQ' 'cat__BsmtFinType2_LwQ' 'cat__BsmtFinType2_None'\n",
      " 'cat__BsmtFinType2_Rec' 'cat__BsmtFinType2_Unf' 'cat__HeatingQC_Ex'\n",
      " 'cat__HeatingQC_Fa' 'cat__HeatingQC_Gd' 'cat__HeatingQC_Po'\n",
      " 'cat__HeatingQC_TA' 'cat__CentralAir_N' 'cat__CentralAir_Y'\n",
      " 'cat__KitchenQual_Ex' 'cat__KitchenQual_Fa' 'cat__KitchenQual_Gd'\n",
      " 'cat__KitchenQual_TA' 'cat__Functional_Maj1' 'cat__Functional_Maj2'\n",
      " 'cat__Functional_Min1' 'cat__Functional_Min2' 'cat__Functional_Mod'\n",
      " 'cat__Functional_Sev' 'cat__Functional_Typ' 'cat__FireplaceQu_Ex'\n",
      " 'cat__FireplaceQu_Fa' 'cat__FireplaceQu_Gd' 'cat__FireplaceQu_None'\n",
      " 'cat__FireplaceQu_Po' 'cat__FireplaceQu_TA' 'cat__GarageType_2Types'\n",
      " 'cat__GarageType_Attchd' 'cat__GarageType_Basment'\n",
      " 'cat__GarageType_BuiltIn' 'cat__GarageType_CarPort'\n",
      " 'cat__GarageType_Detchd' 'cat__GarageType_None' 'cat__GarageFinish_Fin'\n",
      " 'cat__GarageFinish_None' 'cat__GarageFinish_RFn' 'cat__GarageFinish_Unf'\n",
      " 'cat__GarageQual_None' 'cat__GarageCond_Ex' 'cat__GarageCond_Fa'\n",
      " 'cat__GarageCond_Gd' 'cat__GarageCond_None' 'cat__GarageCond_Po'\n",
      " 'cat__GarageCond_TA' 'cat__PavedDrive_N' 'cat__PavedDrive_P'\n",
      " 'cat__PavedDrive_Y' 'cat__PoolQC_Ex' 'cat__PoolQC_Fa' 'cat__PoolQC_Gd'\n",
      " 'cat__PoolQC_None' 'cat__Fence_GdPrv' 'cat__Fence_GdWo'\n",
      " 'cat__Fence_MnPrv' 'cat__Fence_MnWw' 'cat__Fence_None'\n",
      " 'cat__MiscFeature_Gar2' 'cat__MiscFeature_None' 'cat__MiscFeature_Othr'\n",
      " 'cat__MiscFeature_Shed' 'cat__MiscFeature_TenC' 'cat__SaleType_COD'\n",
      " 'cat__SaleType_CWD' 'cat__SaleType_Con' 'cat__SaleType_ConLD'\n",
      " 'cat__SaleType_ConLI' 'cat__SaleType_ConLw' 'cat__SaleType_New'\n",
      " 'cat__SaleType_Oth' 'cat__SaleType_WD' 'cat__SaleCondition_Abnorml'\n",
      " 'cat__SaleCondition_Alloca' 'cat__SaleCondition_Family'\n",
      " 'cat__SaleCondition_Partial' 'remainder__BsmtFinSF1'\n",
      " 'remainder__BsmtFinSF2' 'remainder__BsmtUnfSF' 'remainder__TotalBsmtSF'\n",
      " 'remainder__1stFlrSF' 'remainder__2ndFlrSF' 'remainder__LowQualFinSF'\n",
      " 'remainder__GrLivArea']\n"
     ]
    }
   ],
   "source": [
    "from sklearn.feature_selection import RFE\n",
    "from sklearn.linear_model import LinearRegression\n",
    "from sklearn.preprocessing import OneHotEncoder\n",
    "from sklearn.compose import ColumnTransformer\n",
    "from sklearn.pipeline import Pipeline\n",
    "\n",
    "# Define the column transformer to apply OneHotEncoder to categorical variables\n",
    "categorical_features = train_df.select_dtypes(include=['object']).columns\n",
    "preprocessor = ColumnTransformer(transformers=[\n",
    "    ('cat', OneHotEncoder(handle_unknown='ignore', sparse_output=False), categorical_features)\n",
    "], remainder='passthrough')\n",
    "\n",
    "# Apply preprocessing to the train dataset\n",
    "X_train_transformed = preprocessor.fit_transform(train_df.drop('SalePrice', axis=1))\n",
    "\n",
    "# Define the model\n",
    "model = LinearRegression()\n",
    "\n",
    "# Create the RFE model\n",
    "rfe = RFE(estimator=model, n_features_to_select=250)  # Adjust n_features_to_select as needed\n",
    "\n",
    "# Fit the RFE model\n",
    "rfe.fit(X_train_transformed, train_df['SalePrice'])\n",
    "\n",
    "# Get the feature names after transformation\n",
    "all_feature_names = preprocessor.get_feature_names_out()\n",
    "\n",
    "# Print the features selected by RFE\n",
    "print(\"Features selected by RFE:\", all_feature_names[rfe.support_])"
   ]
  },
  {
   "cell_type": "code",
   "execution_count": 15,
   "metadata": {},
   "outputs": [],
   "source": [
    "# Transforming the train and test datasets\n",
    "X_train_transformed = preprocessor.transform(train_df.drop('SalePrice', axis=1))\n",
    "X_test_transformed = preprocessor.transform(test_df)\n",
    "\n",
    "# Selecting the features identified by RFE\n",
    "X_train_selected = X_train_transformed[:, rfe.support_]\n",
    "X_test_selected = X_test_transformed[:, rfe.support_]\n",
    "\n",
    "# Convert these arrays back to DataFrames\n",
    "selected_features = all_feature_names[rfe.support_]\n",
    "train_df_selected = pd.DataFrame(X_train_selected, columns=selected_features)\n",
    "test_df_selected = pd.DataFrame(X_test_selected, columns=selected_features)"
   ]
  },
  {
   "cell_type": "code",
   "execution_count": 16,
   "metadata": {},
   "outputs": [
    {
     "name": "stdout",
     "output_type": "stream",
     "text": [
      "Linear Regression: RMSE = 385809071841.3081\n",
      "Ridge Regression: RMSE = 34869.97423739327\n"
     ]
    },
    {
     "name": "stderr",
     "output_type": "stream",
     "text": [
      "C:\\Users\\jorda\\AppData\\Local\\Packages\\PythonSoftwareFoundation.Python.3.12_qbz5n2kfra8p0\\LocalCache\\local-packages\\Python312\\site-packages\\sklearn\\linear_model\\_coordinate_descent.py:678: ConvergenceWarning: Objective did not converge. You might want to increase the number of iterations, check the scale of the features or consider increasing regularisation. Duality gap: 5.098e+10, tolerance: 9.208e+08\n",
      "  model = cd_fast.enet_coordinate_descent(\n",
      "C:\\Users\\jorda\\AppData\\Local\\Packages\\PythonSoftwareFoundation.Python.3.12_qbz5n2kfra8p0\\LocalCache\\local-packages\\Python312\\site-packages\\sklearn\\linear_model\\_coordinate_descent.py:678: ConvergenceWarning: Objective did not converge. You might want to increase the number of iterations, check the scale of the features or consider increasing regularisation. Duality gap: 2.088e+11, tolerance: 7.592e+08\n",
      "  model = cd_fast.enet_coordinate_descent(\n",
      "C:\\Users\\jorda\\AppData\\Local\\Packages\\PythonSoftwareFoundation.Python.3.12_qbz5n2kfra8p0\\LocalCache\\local-packages\\Python312\\site-packages\\sklearn\\linear_model\\_coordinate_descent.py:678: ConvergenceWarning: Objective did not converge. You might want to increase the number of iterations, check the scale of the features or consider increasing regularisation. Duality gap: 1.598e+11, tolerance: 7.288e+08\n",
      "  model = cd_fast.enet_coordinate_descent(\n",
      "C:\\Users\\jorda\\AppData\\Local\\Packages\\PythonSoftwareFoundation.Python.3.12_qbz5n2kfra8p0\\LocalCache\\local-packages\\Python312\\site-packages\\sklearn\\linear_model\\_coordinate_descent.py:678: ConvergenceWarning: Objective did not converge. You might want to increase the number of iterations, check the scale of the features or consider increasing regularisation. Duality gap: 4.362e+10, tolerance: 6.990e+08\n",
      "  model = cd_fast.enet_coordinate_descent(\n",
      "C:\\Users\\jorda\\AppData\\Local\\Packages\\PythonSoftwareFoundation.Python.3.12_qbz5n2kfra8p0\\LocalCache\\local-packages\\Python312\\site-packages\\sklearn\\linear_model\\_coordinate_descent.py:678: ConvergenceWarning: Objective did not converge. You might want to increase the number of iterations, check the scale of the features or consider increasing regularisation. Duality gap: 2.708e+11, tolerance: 7.706e+08\n",
      "  model = cd_fast.enet_coordinate_descent(\n",
      "C:\\Users\\jorda\\AppData\\Local\\Packages\\PythonSoftwareFoundation.Python.3.12_qbz5n2kfra8p0\\LocalCache\\local-packages\\Python312\\site-packages\\sklearn\\linear_model\\_coordinate_descent.py:678: ConvergenceWarning: Objective did not converge. You might want to increase the number of iterations, check the scale of the features or consider increasing regularisation. Duality gap: 2.719e+10, tolerance: 7.249e+08\n",
      "  model = cd_fast.enet_coordinate_descent(\n"
     ]
    },
    {
     "name": "stdout",
     "output_type": "stream",
     "text": [
      "Lasso Regression: RMSE = 36634.07037562389\n",
      "Decision Tree: RMSE = 43495.63771191226\n",
      "Random Forest: RMSE = 31330.297108990442\n",
      "Gradient Boosting: RMSE = 28078.522666969788\n"
     ]
    }
   ],
   "source": [
    "from sklearn.model_selection import cross_val_score\n",
    "from sklearn.linear_model import LinearRegression, Ridge, Lasso\n",
    "from sklearn.tree import DecisionTreeRegressor\n",
    "from sklearn.ensemble import RandomForestRegressor, GradientBoostingRegressor\n",
    "from sklearn.metrics import mean_squared_error\n",
    "\n",
    "models = {\n",
    "    'Linear Regression': LinearRegression(),\n",
    "    'Ridge Regression': Ridge(),\n",
    "    'Lasso Regression': Lasso(),\n",
    "    'Decision Tree': DecisionTreeRegressor(),\n",
    "    'Random Forest': RandomForestRegressor(),\n",
    "    'Gradient Boosting': GradientBoostingRegressor()\n",
    "}\n",
    "\n",
    "# Testing each model\n",
    "for name, model in models.items():\n",
    "    model.fit(train_df_selected, train_df['SalePrice'])\n",
    "    scores = cross_val_score(model, train_df_selected, train_df['SalePrice'], scoring='neg_mean_squared_error')\n",
    "    rmse = np.sqrt(-scores.mean())\n",
    "    print(f\"{name}: RMSE = {rmse}\")"
   ]
  },
  {
   "cell_type": "code",
   "execution_count": 17,
   "metadata": {},
   "outputs": [
    {
     "name": "stdout",
     "output_type": "stream",
     "text": [
      "Fitting 3 folds for each of 108 candidates, totalling 324 fits\n",
      "Best parameters: {'learning_rate': 0.1, 'max_depth': 3, 'min_samples_leaf': 2, 'min_samples_split': 3, 'n_estimators': 300}\n"
     ]
    }
   ],
   "source": [
    "from sklearn.model_selection import GridSearchCV\n",
    "from sklearn.ensemble import GradientBoostingRegressor\n",
    "\n",
    "# Define the parameter grid to search\n",
    "param_grid = {\n",
    "    'n_estimators': [100, 200, 300],\n",
    "    'learning_rate': [0.01, 0.1, 0.2],\n",
    "    'max_depth': [3, 4, 5],\n",
    "    'min_samples_split': [2, 3],\n",
    "    'min_samples_leaf': [1, 2]\n",
    "}\n",
    "\n",
    "# Create a base model\n",
    "gb = GradientBoostingRegressor()\n",
    "\n",
    "# Instantiate the grid search model\n",
    "grid_search = GridSearchCV(estimator=gb, param_grid=param_grid, \n",
    "                           cv=3, n_jobs=-1, scoring='neg_mean_squared_error', verbose=2)\n",
    "\n",
    "# Fit the grid search to the data\n",
    "grid_search.fit(train_df_selected, train_df['SalePrice'])\n",
    "\n",
    "# Best parameters\n",
    "best_params = grid_search.best_params_\n",
    "print(\"Best parameters:\", best_params)\n",
    "\n",
    "# Create a new model with the best parameters\n",
    "best_gb = GradientBoostingRegressor(**best_params)\n",
    "\n",
    "# Fit the model and make predictions\n",
    "best_gb.fit(train_df_selected, train_df['SalePrice'])\n",
    "train_predictions = best_gb.predict(train_df_selected)\n",
    "test_predictions = best_gb.predict(test_df_selected)"
   ]
  },
  {
   "cell_type": "code",
   "execution_count": 18,
   "metadata": {},
   "outputs": [
    {
     "name": "stdout",
     "output_type": "stream",
     "text": [
      "Training Metrics:\n",
      "Mean Absolute Error: 9409.398613664373\n",
      "Mean Squared Error: 153870004.74637923\n",
      "Root Mean Squared Error: 12404.434882185453\n",
      "R-squared: 0.9756024793499786\n"
     ]
    }
   ],
   "source": [
    "from sklearn.metrics import mean_absolute_error, mean_squared_error, r2_score\n",
    "import numpy as np\n",
    "\n",
    "# Calculate metrics for the training set\n",
    "train_mae = mean_absolute_error(train_df['SalePrice'], train_predictions)\n",
    "train_mse = mean_squared_error(train_df['SalePrice'], train_predictions)\n",
    "train_rmse = np.sqrt(train_mse)\n",
    "train_r2 = r2_score(train_df['SalePrice'], train_predictions)\n",
    "\n",
    "print(\"Training Metrics:\")\n",
    "print(\"Mean Absolute Error:\", train_mae)\n",
    "print(\"Mean Squared Error:\", train_mse)\n",
    "print(\"Root Mean Squared Error:\", train_rmse)\n",
    "print(\"R-squared:\", train_r2)"
   ]
  }
 ],
 "metadata": {
  "kernelspec": {
   "display_name": "Python 3",
   "language": "python",
   "name": "python3"
  },
  "language_info": {
   "codemirror_mode": {
    "name": "ipython",
    "version": 3
   },
   "file_extension": ".py",
   "mimetype": "text/x-python",
   "name": "python",
   "nbconvert_exporter": "python",
   "pygments_lexer": "ipython3",
   "version": "3.12.1"
  }
 },
 "nbformat": 4,
 "nbformat_minor": 2
}
